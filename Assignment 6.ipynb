{
 "cells": [
  {
   "cell_type": "raw",
   "id": "a6e2f442",
   "metadata": {},
   "source": [
    "1. Write a Python program to construct the following pattern, using a nested for loop.\n",
    "\n",
    "*\n",
    "* *\n",
    "* * *\n",
    "* * * *\n",
    "* * * * *\n",
    "* * * *\n",
    "* * *\n",
    "* *\n",
    "*\n",
    "\n"
   ]
  },
  {
   "cell_type": "code",
   "execution_count": 144,
   "id": "1fca30fd",
   "metadata": {},
   "outputs": [
    {
     "name": "stdout",
     "output_type": "stream",
     "text": [
      "* \n",
      "* * \n",
      "* * * \n",
      "* * * * \n",
      "* * * * * \n",
      "* * * * \n",
      "* * * \n",
      "* * \n",
      "* \n"
     ]
    }
   ],
   "source": [
    "\n",
    "for i in range(1, 10):\n",
    "    if i <= 5:\n",
    "        for j in range(i):\n",
    "            print(\"*\", end=\" \")\n",
    "    else:\n",
    "        for j in range(10 - i):\n",
    "            print(\"*\", end=\" \")\n",
    "    print()\n"
   ]
  },
  {
   "cell_type": "raw",
   "id": "22d76647",
   "metadata": {},
   "source": [
    "2. Write a Python program to check whether an alphabet which is given by user\n",
    "in input prompt is a vowel or consonant."
   ]
  },
  {
   "cell_type": "code",
   "execution_count": 60,
   "id": "22b9679a",
   "metadata": {},
   "outputs": [
    {
     "name": "stdout",
     "output_type": "stream",
     "text": [
      "Please enter an alphabet(a-z,A-Z): t\n",
      "t iS consonant \n"
     ]
    }
   ],
   "source": [
    "\n",
    "vowel = [\"a\",\"A\",\"e\",\"E\",\"i\",\"I\",\"o\",\"O\",\"u\",\"U\"]\n",
    "\n",
    "alphabet = input(\"Please enter an alphabet(a-z,A-Z): \")\n",
    "\n",
    "if alphabet in vowel:\n",
    "    print(f\"{alphabet} iS vowel \")\n",
    "else:\n",
    "    print(f\"{alphabet} iS consonant \")"
   ]
  },
  {
   "cell_type": "raw",
   "id": "bfe3976d",
   "metadata": {},
   "source": [
    "3. Write a Python program to create the multiplication table (from 1 to 10)\n",
    "of a number and the number will be given by user in input prompt.\n",
    "Expected Output:\n",
    "\n",
    "Input a number: 6                                                      \n",
    "6 x 1 = 6                                                              \n",
    "6 x 2 = 12                                                              \n",
    "6 x 3 = 18                                                              \n",
    "6 x 4 = 24                                                              \n",
    "6 x 5 = 30                                                              \n",
    "6 x 6 = 36                                                              \n",
    "6 x 7 = 42                                                              \n",
    "6 x 8 = 48                                                              \n",
    "6 x 9 = 54                                                              \n",
    "6 x 10 = 60\n"
   ]
  },
  {
   "cell_type": "code",
   "execution_count": 72,
   "id": "5d57c4f0",
   "metadata": {},
   "outputs": [
    {
     "name": "stdout",
     "output_type": "stream",
     "text": [
      "Input a number: 6\n",
      "6 X 1 = 6\n",
      "6 X 2 = 12\n",
      "6 X 3 = 18\n",
      "6 X 4 = 24\n",
      "6 X 5 = 30\n",
      "6 X 6 = 36\n",
      "6 X 7 = 42\n",
      "6 X 8 = 48\n",
      "6 X 9 = 54\n",
      "6 X 10 = 60\n"
     ]
    }
   ],
   "source": [
    "number = int(input(\"Input a number: \"))\n",
    "for i in range(1,11):\n",
    "    table = number * i\n",
    "    print(f\"{number} X {i} = {table}\")\n"
   ]
  },
  {
   "cell_type": "raw",
   "id": "e8516ce6",
   "metadata": {},
   "source": [
    "4. Write a Python program to guess a number between 1 and 9.\n",
    "Note : User is prompted to enter a guess. If the user guesses wrong then\n",
    "the prompt appears again until the guess is correct, on successful guess,\n",
    "user will get a \"Well guessed!\" message, and the program will exit.\n"
   ]
  },
  {
   "cell_type": "code",
   "execution_count": 77,
   "id": "ba021836",
   "metadata": {},
   "outputs": [
    {
     "name": "stdout",
     "output_type": "stream",
     "text": [
      "Guess a number between 1 and 9: 6\n",
      "Guess a number between 1 and 9: 4\n",
      "Guess a number between 1 and 9: 3\n",
      "Guess a number between 1 and 9: 2\n",
      "Guess a number between 1 and 9: 1\n",
      "Guess a number between 1 and 9: 2\n",
      "Guess a number between 1 and 9: 3\n",
      "Guess a number between 1 and 9: 3\n",
      "Guess a number between 1 and 9: 3\n",
      "Guess a number between 1 and 9: 3\n",
      "Guess a number between 1 and 9: 3\n",
      "Guess a number between 1 and 9: 3\n",
      "Guess a number between 1 and 9: 3\n",
      "Guess a number between 1 and 9: 3\n",
      "Guess a number between 1 and 9: 4\n",
      "Guess a number between 1 and 9: 45\n",
      "Guess a number between 1 and 9: 6\n",
      "Guess a number between 1 and 9: 67\n",
      "Guess a number between 1 and 9: 8\n",
      "Guess a number between 1 and 9: 9\n",
      "Guess a number between 1 and 9: 9\n",
      "Guess a number between 1 and 9: 8\n",
      "Guess a number between 1 and 9: 7\n",
      "Guess a number between 1 and 9: 7\n",
      "Guess a number between 1 and 9: 65\n",
      "Guess a number between 1 and 9: 5\n",
      "Well guessed!\n"
     ]
    }
   ],
   "source": [
    "import random\n",
    "\n",
    "number_to_guess = random.randint(1, 9)\n",
    "\n",
    "user_guess = 0\n",
    "while user_guess != number_to_guess:\n",
    "    user_guess = int(input(\"Guess a number between 1 and 9: \"))\n",
    "    if user_guess == number_to_guess:\n",
    "        print(\"Well guessed!\")\n"
   ]
  },
  {
   "cell_type": "raw",
   "id": "77e19438",
   "metadata": {},
   "source": [
    "5. Write a  Python program to filter the height and width of students, which are stored in a dictionary.\n",
    "Original Dictionary:\n",
    "{'Cierra Vega': (6.2, 70), 'Alden Cantrell': (5.9, 65), 'Kierra Gentry': (6.0, 68), 'Pierre Cox': (5.8, 66)}\n",
    "Height > 6ft and Weight> 70kg:\n",
    "{'Cierra Vega': (6.2, 70)}"
   ]
  },
  {
   "cell_type": "code",
   "execution_count": 145,
   "id": "5b87900f",
   "metadata": {},
   "outputs": [
    {
     "name": "stdout",
     "output_type": "stream",
     "text": [
      "Height > 6ft and Weight > 70kg:\n",
      "{'Cierra Vega': (6.2, 72)}\n"
     ]
    }
   ],
   "source": [
    "students = {\n",
    "    'Cierra Vega': (6.2, 72),\n",
    "    'Alden Cantrell': (5.9, 65),\n",
    "    'Kierra Gentry': (6.0, 68),\n",
    "    'Pierre Cox': (5.8, 66)\n",
    "}\n",
    "\n",
    "filtered_students = {}\n",
    "\n",
    "for name, (height, weight) in students.items():\n",
    "    if height > 6 and weight > 70:\n",
    "        filtered_students[name] = (height, weight)\n",
    "\n",
    "print(\"Height > 6ft and Weight > 70kg:\")\n",
    "print(filtered_students)\n"
   ]
  },
  {
   "cell_type": "raw",
   "id": "ddb42eed",
   "metadata": {},
   "source": [
    "6. A  Python dictionary contains List as a value. Write a Python program to clear the list values in the said dictionary.\n",
    "Original Dictionary:\n",
    "{'C1': [10, 20, 30], 'C2': [20, 30, 40], 'C3': [12, 34]}\n",
    "Clear the list values in the said dictionary:\n",
    "{'C1': [], 'C2': [], 'C3': []}"
   ]
  },
  {
   "cell_type": "code",
   "execution_count": 84,
   "id": "30ce8b83",
   "metadata": {},
   "outputs": [
    {
     "name": "stdout",
     "output_type": "stream",
     "text": [
      "Clear the list values in the said dictionary:\n",
      "{'C1': [], 'C2': [], 'C3': []}\n"
     ]
    }
   ],
   "source": [
    "dictionary = {\n",
    "    'C1': [10, 20, 30],\n",
    "    'C2': [20, 30, 40],\n",
    "    'C3': [12, 34]\n",
    "}\n",
    "for key in dictionary:\n",
    "    dictionary[key] = []\n",
    "\n",
    "\n",
    "print(\"Clear the list values in the said dictionary:\")\n",
    "print(dictionary)\n"
   ]
  },
  {
   "cell_type": "raw",
   "id": "8e20d8b5",
   "metadata": {},
   "source": [
    "7.  Rivers: Make a dictionary containing three major rivers and the country\n",
    "each river runs through. One key-value pair might be 'nile': 'egypt'.\n",
    "• Use a loop to print a sentence about each river, such as The Nile runs\n",
    "through Egypt.\n",
    "• Use a loop to print the name of each river included in the dictionary.\n",
    "• Use a loop to print the name of each country included in the dictionary."
   ]
  },
  {
   "cell_type": "code",
   "execution_count": 85,
   "id": "b1813171",
   "metadata": {},
   "outputs": [
    {
     "name": "stdout",
     "output_type": "stream",
     "text": [
      "The Nile runs through Egypt.\n",
      "The Amazon runs through Brazil.\n",
      "The Yangtze runs through China.\n",
      "\n",
      "Rivers included in the dictionary:\n",
      "Nile\n",
      "Amazon\n",
      "Yangtze\n",
      "\n",
      "Countries included in the dictionary:\n",
      "Egypt\n",
      "Brazil\n",
      "China\n"
     ]
    }
   ],
   "source": [
    "\n",
    "rivers = {\n",
    "    'nile': 'egypt',\n",
    "    'amazon': 'brazil',\n",
    "    'yangtze': 'china'\n",
    "}\n",
    "\n",
    "for river, country in rivers.items():\n",
    "    print(f\"The {river.title()} runs through {country.title()}.\")\n",
    "\n",
    "print(\"\\nRivers included in the dictionary:\")\n",
    "for river in rivers.keys():\n",
    "    print(river.title())\n",
    "\n",
    "print(\"\\nCountries included in the dictionary:\")\n",
    "for country in rivers.values():\n",
    "    print(country.title())\n"
   ]
  },
  {
   "cell_type": "raw",
   "id": "64275751",
   "metadata": {},
   "source": [
    "8. Movie Tickets: A movie theater charges different ticket prices depending on\n",
    "a person’s age. If a person is under the age of 3, the ticket is free; if they are\n",
    "between 3 and 12, the ticket is $10; and if they are over age 12, the ticket is\n",
    "$15. Write a loop in which you ask users their age, and then tell them the cost\n",
    "of their movie ticket."
   ]
  },
  {
   "cell_type": "code",
   "execution_count": 86,
   "id": "86330106",
   "metadata": {},
   "outputs": [
    {
     "name": "stdout",
     "output_type": "stream",
     "text": [
      "Enter your age (or type '-1' to quit): 6\n",
      "The cost of your movie ticket is $10.\n",
      "Enter your age (or type '-1' to quit): 4\n",
      "The cost of your movie ticket is $10.\n",
      "Enter your age (or type '-1' to quit): 3\n",
      "The cost of your movie ticket is $10.\n",
      "Enter your age (or type '-1' to quit): 57\n",
      "The cost of your movie ticket is $15.\n",
      "Enter your age (or type '-1' to quit): 80--\n",
      "Invalid input. Please enter a number.\n",
      "Enter your age (or type '-1' to quit): -1\n"
     ]
    }
   ],
   "source": [
    "while True:\n",
    "    try:\n",
    "        age = int(input(\"Enter your age (or type '-1' to quit): \"))\n",
    "        if age == -1:\n",
    "            break\n",
    "        if age < 3:\n",
    "            price = 0\n",
    "        elif 3 <= age <= 12:\n",
    "            price = 10\n",
    "        else:\n",
    "            price = 15\n",
    "        print(f\"The cost of your movie ticket is ${price}.\")\n",
    "    except ValueError:\n",
    "        print(\"Invalid input. Please enter a number.\")\n"
   ]
  },
  {
   "cell_type": "code",
   "execution_count": null,
   "id": "b97b622c",
   "metadata": {},
   "outputs": [],
   "source": []
  }
 ],
 "metadata": {
  "kernelspec": {
   "display_name": "Python 3 (ipykernel)",
   "language": "python",
   "name": "python3"
  },
  "language_info": {
   "codemirror_mode": {
    "name": "ipython",
    "version": 3
   },
   "file_extension": ".py",
   "mimetype": "text/x-python",
   "name": "python",
   "nbconvert_exporter": "python",
   "pygments_lexer": "ipython3",
   "version": "3.9.13"
  }
 },
 "nbformat": 4,
 "nbformat_minor": 5
}
